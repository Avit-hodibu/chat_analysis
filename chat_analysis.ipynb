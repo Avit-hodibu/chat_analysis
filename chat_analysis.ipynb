{
 "cells": [
  {
   "cell_type": "code",
   "execution_count": 67,
   "id": "c4dbf646",
   "metadata": {},
   "outputs": [],
   "source": [
    "import re\n",
    "import pandas as pd"
   ]
  },
  {
   "cell_type": "code",
   "execution_count": 68,
   "id": "5c504a01",
   "metadata": {},
   "outputs": [],
   "source": [
    "f = open('WhatsApp Chat with slow.txt', 'r', encoding='utf-8')"
   ]
  },
  {
   "cell_type": "code",
   "execution_count": 69,
   "id": "d0aaf439",
   "metadata": {},
   "outputs": [],
   "source": [
    "data = f.read()"
   ]
  },
  {
   "cell_type": "code",
   "execution_count": 70,
   "id": "8d948236",
   "metadata": {},
   "outputs": [
    {
     "data": {
      "text/plain": [
       "str"
      ]
     },
     "execution_count": 70,
     "metadata": {},
     "output_type": "execute_result"
    }
   ],
   "source": [
    "type(data)"
   ]
  },
  {
   "cell_type": "code",
   "execution_count": 71,
   "id": "fdf8c500",
   "metadata": {},
   "outputs": [],
   "source": [
    "#print(data)"
   ]
  },
  {
   "cell_type": "code",
   "execution_count": 72,
   "id": "3bffc46f",
   "metadata": {},
   "outputs": [],
   "source": [
    "pattern = '\\d{1,2}/\\d{1,2}/\\d{2,4},\\s\\d{1,2}:\\d{2}\\s-\\s'"
   ]
  },
  {
   "cell_type": "code",
   "execution_count": 73,
   "id": "f3f8fdfb",
   "metadata": {},
   "outputs": [],
   "source": [
    "messages = re.split(pattern, data)[1:]\n",
    "#messages"
   ]
  },
  {
   "cell_type": "code",
   "execution_count": 92,
   "id": "f1f75b5d",
   "metadata": {},
   "outputs": [
    {
     "data": {
      "text/plain": [
       "['', 'vit']"
      ]
     },
     "execution_count": 92,
     "metadata": {},
     "output_type": "execute_result"
    }
   ],
   "source": [
    "re.split('a', 'avit')"
   ]
  },
  {
   "cell_type": "code",
   "execution_count": 75,
   "id": "8b0af167",
   "metadata": {},
   "outputs": [
    {
     "data": {
      "text/plain": [
       "'vit'"
      ]
     },
     "execution_count": 75,
     "metadata": {},
     "output_type": "execute_result"
    }
   ],
   "source": [
    "re.sub('a','','avit')"
   ]
  },
  {
   "cell_type": "code",
   "execution_count": 76,
   "id": "3791cfb2",
   "metadata": {},
   "outputs": [],
   "source": [
    "a = re.sub(pattern, '|', data) # re.sub(pattern, replacement, string, count=0, flags=0)\n",
    "\n",
    "#a"
   ]
  },
  {
   "cell_type": "code",
   "execution_count": 77,
   "id": "b4c74cb2",
   "metadata": {},
   "outputs": [],
   "source": [
    "dates=re.findall(pattern, data)\n",
    "#dates"
   ]
  },
  {
   "cell_type": "code",
   "execution_count": 78,
   "id": "8e3f1348",
   "metadata": {},
   "outputs": [
    {
     "data": {
      "text/html": [
       "<div>\n",
       "<style scoped>\n",
       "    .dataframe tbody tr th:only-of-type {\n",
       "        vertical-align: middle;\n",
       "    }\n",
       "\n",
       "    .dataframe tbody tr th {\n",
       "        vertical-align: top;\n",
       "    }\n",
       "\n",
       "    .dataframe thead th {\n",
       "        text-align: right;\n",
       "    }\n",
       "</style>\n",
       "<table border=\"1\" class=\"dataframe\">\n",
       "  <thead>\n",
       "    <tr style=\"text-align: right;\">\n",
       "      <th></th>\n",
       "      <th>user_message</th>\n",
       "      <th>date</th>\n",
       "    </tr>\n",
       "  </thead>\n",
       "  <tbody>\n",
       "    <tr>\n",
       "      <th>0</th>\n",
       "      <td>Messages and calls are end-to-end encrypted. N...</td>\n",
       "      <td>2020-08-23 10:08:00</td>\n",
       "    </tr>\n",
       "    <tr>\n",
       "      <th>1</th>\n",
       "      <td>Avit Rai Hodibu☻: class vo vhane message gara\\n</td>\n",
       "      <td>2020-08-23 10:08:00</td>\n",
       "    </tr>\n",
       "    <tr>\n",
       "      <th>2</th>\n",
       "      <td>slow: Kto WiFi sakiyexa feri\\n</td>\n",
       "      <td>2020-08-23 10:38:00</td>\n",
       "    </tr>\n",
       "    <tr>\n",
       "      <th>3</th>\n",
       "      <td>slow: Darshan ko\\n</td>\n",
       "      <td>2020-08-23 10:38:00</td>\n",
       "    </tr>\n",
       "    <tr>\n",
       "      <th>4</th>\n",
       "      <td>Avit Rai Hodibu☻: barbad\\n</td>\n",
       "      <td>2020-08-23 10:39:00</td>\n",
       "    </tr>\n",
       "  </tbody>\n",
       "</table>\n",
       "</div>"
      ],
      "text/plain": [
       "                                        user_message                date\n",
       "0  Messages and calls are end-to-end encrypted. N... 2020-08-23 10:08:00\n",
       "1    Avit Rai Hodibu☻: class vo vhane message gara\\n 2020-08-23 10:08:00\n",
       "2                     slow: Kto WiFi sakiyexa feri\\n 2020-08-23 10:38:00\n",
       "3                                 slow: Darshan ko\\n 2020-08-23 10:38:00\n",
       "4                         Avit Rai Hodibu☻: barbad\\n 2020-08-23 10:39:00"
      ]
     },
     "execution_count": 78,
     "metadata": {},
     "output_type": "execute_result"
    }
   ],
   "source": [
    "df = pd.DataFrame({'user_message': messages, 'message_date':dates})\n",
    "#convert message_date type to datetime\n",
    "df['message_date']=pd.to_datetime(df['message_date'], format='%d/%m/%Y, %H:%M - ')\n",
    "df.rename(columns={'message_date':'date'}, inplace=True)\n",
    "df.head()"
   ]
  },
  {
   "cell_type": "code",
   "execution_count": 79,
   "id": "02687436",
   "metadata": {},
   "outputs": [
    {
     "data": {
      "text/plain": [
       "(3602, 2)"
      ]
     },
     "execution_count": 79,
     "metadata": {},
     "output_type": "execute_result"
    }
   ],
   "source": [
    "df.shape"
   ]
  },
  {
   "cell_type": "code",
   "execution_count": 80,
   "id": "3ba36f24",
   "metadata": {},
   "outputs": [
    {
     "data": {
      "text/html": [
       "<div>\n",
       "<style scoped>\n",
       "    .dataframe tbody tr th:only-of-type {\n",
       "        vertical-align: middle;\n",
       "    }\n",
       "\n",
       "    .dataframe tbody tr th {\n",
       "        vertical-align: top;\n",
       "    }\n",
       "\n",
       "    .dataframe thead th {\n",
       "        text-align: right;\n",
       "    }\n",
       "</style>\n",
       "<table border=\"1\" class=\"dataframe\">\n",
       "  <thead>\n",
       "    <tr style=\"text-align: right;\">\n",
       "      <th></th>\n",
       "      <th>date</th>\n",
       "      <th>user</th>\n",
       "      <th>message</th>\n",
       "    </tr>\n",
       "  </thead>\n",
       "  <tbody>\n",
       "    <tr>\n",
       "      <th>0</th>\n",
       "      <td>2020-08-23 10:08:00</td>\n",
       "      <td>group_notification</td>\n",
       "      <td>Messages and calls are end-to-end encrypted. N...</td>\n",
       "    </tr>\n",
       "    <tr>\n",
       "      <th>1</th>\n",
       "      <td>2020-08-23 10:08:00</td>\n",
       "      <td>Avit Rai Hodibu☻</td>\n",
       "      <td>class vo vhane message gara\\n</td>\n",
       "    </tr>\n",
       "    <tr>\n",
       "      <th>2</th>\n",
       "      <td>2020-08-23 10:38:00</td>\n",
       "      <td>slow</td>\n",
       "      <td>Kto WiFi sakiyexa feri\\n</td>\n",
       "    </tr>\n",
       "    <tr>\n",
       "      <th>3</th>\n",
       "      <td>2020-08-23 10:38:00</td>\n",
       "      <td>slow</td>\n",
       "      <td>Darshan ko\\n</td>\n",
       "    </tr>\n",
       "    <tr>\n",
       "      <th>4</th>\n",
       "      <td>2020-08-23 10:39:00</td>\n",
       "      <td>Avit Rai Hodibu☻</td>\n",
       "      <td>barbad\\n</td>\n",
       "    </tr>\n",
       "  </tbody>\n",
       "</table>\n",
       "</div>"
      ],
      "text/plain": [
       "                 date                user  \\\n",
       "0 2020-08-23 10:08:00  group_notification   \n",
       "1 2020-08-23 10:08:00    Avit Rai Hodibu☻   \n",
       "2 2020-08-23 10:38:00                slow   \n",
       "3 2020-08-23 10:38:00                slow   \n",
       "4 2020-08-23 10:39:00    Avit Rai Hodibu☻   \n",
       "\n",
       "                                             message  \n",
       "0  Messages and calls are end-to-end encrypted. N...  \n",
       "1                      class vo vhane message gara\\n  \n",
       "2                           Kto WiFi sakiyexa feri\\n  \n",
       "3                                       Darshan ko\\n  \n",
       "4                                           barbad\\n  "
      ]
     },
     "execution_count": 80,
     "metadata": {},
     "output_type": "execute_result"
    }
   ],
   "source": [
    "# separate users and message\n",
    "users = []\n",
    "messages = []\n",
    "for message in df['user_message']:\n",
    "    entry = re.split('([\\w\\W]+?):\\s', message)\n",
    "    # \\w → Matches any word character (letters, digits, underscore).\n",
    "    #\\W → Matches any non-word character (spaces, punctuation, symbols, etc.).\n",
    "    # ? meaning it stops at the first possible match instead of the last.\n",
    "    if entry[1:]: #user name\n",
    "        users.append(entry[1])\n",
    "        messages.append(entry[2])\n",
    "    else:\n",
    "        users.append('group_notification')\n",
    "        messages.append(entry[0])\n",
    "df['user'] = users\n",
    "df['message'] = messages\n",
    "df.drop(columns = ['user_message'], inplace = True)\n",
    "\n",
    "df.head()"
   ]
  },
  {
   "cell_type": "code",
   "execution_count": 81,
   "id": "5afb3f59",
   "metadata": {},
   "outputs": [],
   "source": [
    "df['year']=df['date'].dt.year"
   ]
  },
  {
   "cell_type": "code",
   "execution_count": 82,
   "id": "7d83af51",
   "metadata": {},
   "outputs": [
    {
     "data": {
      "text/html": [
       "<div>\n",
       "<style scoped>\n",
       "    .dataframe tbody tr th:only-of-type {\n",
       "        vertical-align: middle;\n",
       "    }\n",
       "\n",
       "    .dataframe tbody tr th {\n",
       "        vertical-align: top;\n",
       "    }\n",
       "\n",
       "    .dataframe thead th {\n",
       "        text-align: right;\n",
       "    }\n",
       "</style>\n",
       "<table border=\"1\" class=\"dataframe\">\n",
       "  <thead>\n",
       "    <tr style=\"text-align: right;\">\n",
       "      <th></th>\n",
       "      <th>date</th>\n",
       "      <th>user</th>\n",
       "      <th>message</th>\n",
       "      <th>year</th>\n",
       "    </tr>\n",
       "  </thead>\n",
       "  <tbody>\n",
       "    <tr>\n",
       "      <th>0</th>\n",
       "      <td>2020-08-23 10:08:00</td>\n",
       "      <td>group_notification</td>\n",
       "      <td>Messages and calls are end-to-end encrypted. N...</td>\n",
       "      <td>2020</td>\n",
       "    </tr>\n",
       "    <tr>\n",
       "      <th>1</th>\n",
       "      <td>2020-08-23 10:08:00</td>\n",
       "      <td>Avit Rai Hodibu☻</td>\n",
       "      <td>class vo vhane message gara\\n</td>\n",
       "      <td>2020</td>\n",
       "    </tr>\n",
       "    <tr>\n",
       "      <th>2</th>\n",
       "      <td>2020-08-23 10:38:00</td>\n",
       "      <td>slow</td>\n",
       "      <td>Kto WiFi sakiyexa feri\\n</td>\n",
       "      <td>2020</td>\n",
       "    </tr>\n",
       "    <tr>\n",
       "      <th>3</th>\n",
       "      <td>2020-08-23 10:38:00</td>\n",
       "      <td>slow</td>\n",
       "      <td>Darshan ko\\n</td>\n",
       "      <td>2020</td>\n",
       "    </tr>\n",
       "    <tr>\n",
       "      <th>4</th>\n",
       "      <td>2020-08-23 10:39:00</td>\n",
       "      <td>Avit Rai Hodibu☻</td>\n",
       "      <td>barbad\\n</td>\n",
       "      <td>2020</td>\n",
       "    </tr>\n",
       "  </tbody>\n",
       "</table>\n",
       "</div>"
      ],
      "text/plain": [
       "                 date                user  \\\n",
       "0 2020-08-23 10:08:00  group_notification   \n",
       "1 2020-08-23 10:08:00    Avit Rai Hodibu☻   \n",
       "2 2020-08-23 10:38:00                slow   \n",
       "3 2020-08-23 10:38:00                slow   \n",
       "4 2020-08-23 10:39:00    Avit Rai Hodibu☻   \n",
       "\n",
       "                                             message  year  \n",
       "0  Messages and calls are end-to-end encrypted. N...  2020  \n",
       "1                      class vo vhane message gara\\n  2020  \n",
       "2                           Kto WiFi sakiyexa feri\\n  2020  \n",
       "3                                       Darshan ko\\n  2020  \n",
       "4                                           barbad\\n  2020  "
      ]
     },
     "execution_count": 82,
     "metadata": {},
     "output_type": "execute_result"
    }
   ],
   "source": [
    "df.head()"
   ]
  },
  {
   "cell_type": "code",
   "execution_count": 83,
   "id": "20827fa0",
   "metadata": {},
   "outputs": [
    {
     "data": {
      "text/html": [
       "<div>\n",
       "<style scoped>\n",
       "    .dataframe tbody tr th:only-of-type {\n",
       "        vertical-align: middle;\n",
       "    }\n",
       "\n",
       "    .dataframe tbody tr th {\n",
       "        vertical-align: top;\n",
       "    }\n",
       "\n",
       "    .dataframe thead th {\n",
       "        text-align: right;\n",
       "    }\n",
       "</style>\n",
       "<table border=\"1\" class=\"dataframe\">\n",
       "  <thead>\n",
       "    <tr style=\"text-align: right;\">\n",
       "      <th></th>\n",
       "      <th>date</th>\n",
       "      <th>user</th>\n",
       "      <th>message</th>\n",
       "      <th>year</th>\n",
       "      <th>month</th>\n",
       "    </tr>\n",
       "  </thead>\n",
       "  <tbody>\n",
       "    <tr>\n",
       "      <th>0</th>\n",
       "      <td>2020-08-23 10:08:00</td>\n",
       "      <td>group_notification</td>\n",
       "      <td>Messages and calls are end-to-end encrypted. N...</td>\n",
       "      <td>2020</td>\n",
       "      <td>8</td>\n",
       "    </tr>\n",
       "    <tr>\n",
       "      <th>1</th>\n",
       "      <td>2020-08-23 10:08:00</td>\n",
       "      <td>Avit Rai Hodibu☻</td>\n",
       "      <td>class vo vhane message gara\\n</td>\n",
       "      <td>2020</td>\n",
       "      <td>8</td>\n",
       "    </tr>\n",
       "    <tr>\n",
       "      <th>2</th>\n",
       "      <td>2020-08-23 10:38:00</td>\n",
       "      <td>slow</td>\n",
       "      <td>Kto WiFi sakiyexa feri\\n</td>\n",
       "      <td>2020</td>\n",
       "      <td>8</td>\n",
       "    </tr>\n",
       "    <tr>\n",
       "      <th>3</th>\n",
       "      <td>2020-08-23 10:38:00</td>\n",
       "      <td>slow</td>\n",
       "      <td>Darshan ko\\n</td>\n",
       "      <td>2020</td>\n",
       "      <td>8</td>\n",
       "    </tr>\n",
       "    <tr>\n",
       "      <th>4</th>\n",
       "      <td>2020-08-23 10:39:00</td>\n",
       "      <td>Avit Rai Hodibu☻</td>\n",
       "      <td>barbad\\n</td>\n",
       "      <td>2020</td>\n",
       "      <td>8</td>\n",
       "    </tr>\n",
       "  </tbody>\n",
       "</table>\n",
       "</div>"
      ],
      "text/plain": [
       "                 date                user  \\\n",
       "0 2020-08-23 10:08:00  group_notification   \n",
       "1 2020-08-23 10:08:00    Avit Rai Hodibu☻   \n",
       "2 2020-08-23 10:38:00                slow   \n",
       "3 2020-08-23 10:38:00                slow   \n",
       "4 2020-08-23 10:39:00    Avit Rai Hodibu☻   \n",
       "\n",
       "                                             message  year  month  \n",
       "0  Messages and calls are end-to-end encrypted. N...  2020      8  \n",
       "1                      class vo vhane message gara\\n  2020      8  \n",
       "2                           Kto WiFi sakiyexa feri\\n  2020      8  \n",
       "3                                       Darshan ko\\n  2020      8  \n",
       "4                                           barbad\\n  2020      8  "
      ]
     },
     "execution_count": 83,
     "metadata": {},
     "output_type": "execute_result"
    }
   ],
   "source": [
    "df['month']=df['date'].dt.month\n",
    "df.head()"
   ]
  },
  {
   "cell_type": "code",
   "execution_count": 84,
   "id": "9b477993",
   "metadata": {},
   "outputs": [],
   "source": [
    "df['day']=df['date'].dt.day"
   ]
  },
  {
   "cell_type": "code",
   "execution_count": 85,
   "id": "d44e3e69",
   "metadata": {},
   "outputs": [
    {
     "data": {
      "text/html": [
       "<div>\n",
       "<style scoped>\n",
       "    .dataframe tbody tr th:only-of-type {\n",
       "        vertical-align: middle;\n",
       "    }\n",
       "\n",
       "    .dataframe tbody tr th {\n",
       "        vertical-align: top;\n",
       "    }\n",
       "\n",
       "    .dataframe thead th {\n",
       "        text-align: right;\n",
       "    }\n",
       "</style>\n",
       "<table border=\"1\" class=\"dataframe\">\n",
       "  <thead>\n",
       "    <tr style=\"text-align: right;\">\n",
       "      <th></th>\n",
       "      <th>date</th>\n",
       "      <th>user</th>\n",
       "      <th>message</th>\n",
       "      <th>year</th>\n",
       "      <th>month</th>\n",
       "      <th>day</th>\n",
       "      <th>hour</th>\n",
       "      <th>minute</th>\n",
       "    </tr>\n",
       "  </thead>\n",
       "  <tbody>\n",
       "    <tr>\n",
       "      <th>0</th>\n",
       "      <td>2020-08-23 10:08:00</td>\n",
       "      <td>group_notification</td>\n",
       "      <td>Messages and calls are end-to-end encrypted. N...</td>\n",
       "      <td>2020</td>\n",
       "      <td>8</td>\n",
       "      <td>23</td>\n",
       "      <td>10</td>\n",
       "      <td>8</td>\n",
       "    </tr>\n",
       "    <tr>\n",
       "      <th>1</th>\n",
       "      <td>2020-08-23 10:08:00</td>\n",
       "      <td>Avit Rai Hodibu☻</td>\n",
       "      <td>class vo vhane message gara\\n</td>\n",
       "      <td>2020</td>\n",
       "      <td>8</td>\n",
       "      <td>23</td>\n",
       "      <td>10</td>\n",
       "      <td>8</td>\n",
       "    </tr>\n",
       "    <tr>\n",
       "      <th>2</th>\n",
       "      <td>2020-08-23 10:38:00</td>\n",
       "      <td>slow</td>\n",
       "      <td>Kto WiFi sakiyexa feri\\n</td>\n",
       "      <td>2020</td>\n",
       "      <td>8</td>\n",
       "      <td>23</td>\n",
       "      <td>10</td>\n",
       "      <td>38</td>\n",
       "    </tr>\n",
       "    <tr>\n",
       "      <th>3</th>\n",
       "      <td>2020-08-23 10:38:00</td>\n",
       "      <td>slow</td>\n",
       "      <td>Darshan ko\\n</td>\n",
       "      <td>2020</td>\n",
       "      <td>8</td>\n",
       "      <td>23</td>\n",
       "      <td>10</td>\n",
       "      <td>38</td>\n",
       "    </tr>\n",
       "    <tr>\n",
       "      <th>4</th>\n",
       "      <td>2020-08-23 10:39:00</td>\n",
       "      <td>Avit Rai Hodibu☻</td>\n",
       "      <td>barbad\\n</td>\n",
       "      <td>2020</td>\n",
       "      <td>8</td>\n",
       "      <td>23</td>\n",
       "      <td>10</td>\n",
       "      <td>39</td>\n",
       "    </tr>\n",
       "  </tbody>\n",
       "</table>\n",
       "</div>"
      ],
      "text/plain": [
       "                 date                user  \\\n",
       "0 2020-08-23 10:08:00  group_notification   \n",
       "1 2020-08-23 10:08:00    Avit Rai Hodibu☻   \n",
       "2 2020-08-23 10:38:00                slow   \n",
       "3 2020-08-23 10:38:00                slow   \n",
       "4 2020-08-23 10:39:00    Avit Rai Hodibu☻   \n",
       "\n",
       "                                             message  year  month  day  hour  \\\n",
       "0  Messages and calls are end-to-end encrypted. N...  2020      8   23    10   \n",
       "1                      class vo vhane message gara\\n  2020      8   23    10   \n",
       "2                           Kto WiFi sakiyexa feri\\n  2020      8   23    10   \n",
       "3                                       Darshan ko\\n  2020      8   23    10   \n",
       "4                                           barbad\\n  2020      8   23    10   \n",
       "\n",
       "   minute  \n",
       "0       8  \n",
       "1       8  \n",
       "2      38  \n",
       "3      38  \n",
       "4      39  "
      ]
     },
     "execution_count": 85,
     "metadata": {},
     "output_type": "execute_result"
    }
   ],
   "source": [
    "df['hour']=df['date'].dt.hour\n",
    "df['minute']=df['date'].dt.minute\n",
    "df.head()"
   ]
  },
  {
   "cell_type": "code",
   "execution_count": 86,
   "id": "dcdfc7dd",
   "metadata": {},
   "outputs": [
    {
     "data": {
      "text/plain": [
       "(1891, 8)"
      ]
     },
     "execution_count": 86,
     "metadata": {},
     "output_type": "execute_result"
    }
   ],
   "source": [
    "df[df['user']== 'slow'].shape"
   ]
  },
  {
   "cell_type": "code",
   "execution_count": 87,
   "id": "fb1f0c64",
   "metadata": {},
   "outputs": [
    {
     "data": {
      "text/plain": [
       "16187"
      ]
     },
     "execution_count": 87,
     "metadata": {},
     "output_type": "execute_result"
    }
   ],
   "source": [
    "words =[]\n",
    "for message in df['message']:\n",
    "    words.extend(message.split())\n",
    "len(words)"
   ]
  },
  {
   "cell_type": "code",
   "execution_count": 88,
   "id": "a1ed7397",
   "metadata": {},
   "outputs": [
    {
     "data": {
      "text/plain": [
       "['www.google.com', 'www.bing.com']"
      ]
     },
     "execution_count": 88,
     "metadata": {},
     "output_type": "execute_result"
    }
   ],
   "source": [
    "from urlextract import URLExtract\n",
    "extractor = URLExtract()\n",
    "urls = extractor.find_urls(\"hy www.google.com is best site. another is www.bing.com. i like\")\n",
    "urls"
   ]
  },
  {
   "cell_type": "code",
   "execution_count": 89,
   "id": "9087a72d",
   "metadata": {},
   "outputs": [
    {
     "name": "stdout",
     "output_type": "stream",
     "text": [
      "Requirement already satisfied: urlextract in c:\\users\\avith\\appdata\\roaming\\python\\python39\\site-packages (1.9.0)\n",
      "Requirement already satisfied: idna in c:\\users\\avith\\appdata\\roaming\\python\\python39\\site-packages (from urlextract) (3.3)\n",
      "Requirement already satisfied: uritools in c:\\users\\avith\\appdata\\roaming\\python\\python39\\site-packages (from urlextract) (4.0.3)\n",
      "Requirement already satisfied: platformdirs in c:\\users\\avith\\appdata\\roaming\\python\\python39\\site-packages (from urlextract) (2.6.2)\n",
      "Requirement already satisfied: filelock in c:\\users\\avith\\appdata\\roaming\\python\\python39\\site-packages (from urlextract) (3.0.12)\n"
     ]
    }
   ],
   "source": [
    "!pip install urlextract"
   ]
  },
  {
   "cell_type": "code",
   "execution_count": 90,
   "id": "7907aff6",
   "metadata": {},
   "outputs": [],
   "source": [
    "links = []\n",
    "for message in df['message']:\n",
    "    links.extend(extractor.find_urls(message))"
   ]
  },
  {
   "cell_type": "code",
   "execution_count": 93,
   "id": "fded0912",
   "metadata": {},
   "outputs": [
    {
     "data": {
      "text/plain": [
       "141"
      ]
     },
     "execution_count": 93,
     "metadata": {},
     "output_type": "execute_result"
    }
   ],
   "source": [
    "len(links)"
   ]
  },
  {
   "cell_type": "code",
   "execution_count": 94,
   "id": "d7c91836",
   "metadata": {},
   "outputs": [
    {
     "data": {
      "text/plain": [
       "slow                  1891\n",
       "Avit Rai Hodibu☻      1709\n",
       "group_notification       2\n",
       "Name: user, dtype: int64"
      ]
     },
     "execution_count": 94,
     "metadata": {},
     "output_type": "execute_result"
    }
   ],
   "source": [
    "df['user'].value_counts().head()"
   ]
  },
  {
   "cell_type": "code",
   "execution_count": 95,
   "id": "b1774f06",
   "metadata": {},
   "outputs": [],
   "source": [
    "import matplotlib.pyplot as plt"
   ]
  },
  {
   "cell_type": "code",
   "execution_count": 101,
   "id": "40f1d777",
   "metadata": {},
   "outputs": [
    {
     "data": {
      "image/png": "[encoded data removed]",
      "text/plain": [
       "<Figure size 640x480 with 1 Axes>"
      ]
     },
     "metadata": {},
     "output_type": "display_data"
    }
   ],
   "source": [
    "x= df['user'].value_counts().head()\n",
    "name = x.index\n",
    "count = x.values\n",
    "plt.bar(name, count)\n",
    "plt.xticks(rotation='vertical')\n",
    "plt.show()"
   ]
  },
  {
   "cell_type": "code",
   "execution_count": 103,
   "id": "a7d02c70",
   "metadata": {},
   "outputs": [
    {
     "data": {
      "text/html": [
       "<div>\n",
       "<style scoped>\n",
       "    .dataframe tbody tr th:only-of-type {\n",
       "        vertical-align: middle;\n",
       "    }\n",
       "\n",
       "    .dataframe tbody tr th {\n",
       "        vertical-align: top;\n",
       "    }\n",
       "\n",
       "    .dataframe thead th {\n",
       "        text-align: right;\n",
       "    }\n",
       "</style>\n",
       "<table border=\"1\" class=\"dataframe\">\n",
       "  <thead>\n",
       "    <tr style=\"text-align: right;\">\n",
       "      <th></th>\n",
       "      <th>name</th>\n",
       "      <th>percent</th>\n",
       "    </tr>\n",
       "  </thead>\n",
       "  <tbody>\n",
       "    <tr>\n",
       "      <th>0</th>\n",
       "      <td>slow</td>\n",
       "      <td>52.50</td>\n",
       "    </tr>\n",
       "    <tr>\n",
       "      <th>1</th>\n",
       "      <td>Avit Rai Hodibu☻</td>\n",
       "      <td>47.45</td>\n",
       "    </tr>\n",
       "    <tr>\n",
       "      <th>2</th>\n",
       "      <td>group_notification</td>\n",
       "      <td>0.06</td>\n",
       "    </tr>\n",
       "  </tbody>\n",
       "</table>\n",
       "</div>"
      ],
      "text/plain": [
       "                 name  percent\n",
       "0                slow    52.50\n",
       "1    Avit Rai Hodibu☻    47.45\n",
       "2  group_notification     0.06"
      ]
     },
     "execution_count": 103,
     "metadata": {},
     "output_type": "execute_result"
    }
   ],
   "source": [
    "round((df['user'].value_counts()/df.shape[0])*100,2).reset_index().rename(columns={'index':'name', 'user':'percent'})"
   ]
  },
  {
   "cell_type": "code",
   "execution_count": null,
   "id": "8b1f95e0",
   "metadata": {},
   "outputs": [],
   "source": []
  }
 ],
 "metadata": {
  "kernelspec": {
   "display_name": "Python 3 (ipykernel)",
   "language": "python",
   "name": "python3"
  },
  "language_info": {
   "codemirror_mode": {
    "name": "ipython",
    "version": 3
   },
   "file_extension": ".py",
   "mimetype": "text/x-python",
   "name": "python",
   "nbconvert_exporter": "python",
   "pygments_lexer": "ipython3",
   "version": "3.9.13"
  }
 },
 "nbformat": 4,
 "nbformat_minor": 5
}
